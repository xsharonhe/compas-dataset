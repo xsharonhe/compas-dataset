{
 "cells": [
  {
   "cell_type": "markdown",
   "metadata": {},
   "source": [
    "# Import packages and upload dataset"
   ]
  },
  {
   "cell_type": "code",
   "execution_count": 2,
   "metadata": {},
   "outputs": [],
   "source": [
    "import numpy as np\n",
    "import pandas as pd\n",
    "import matplotlib.pyplot as plt\n",
    "import seaborn as sns\n",
    "%matplotlib inline"
   ]
  },
  {
   "cell_type": "code",
   "execution_count": 4,
   "metadata": {},
   "outputs": [
    {
     "data": {
      "text/html": [
       "<div>\n",
       "<style scoped>\n",
       "    .dataframe tbody tr th:only-of-type {\n",
       "        vertical-align: middle;\n",
       "    }\n",
       "\n",
       "    .dataframe tbody tr th {\n",
       "        vertical-align: top;\n",
       "    }\n",
       "\n",
       "    .dataframe thead th {\n",
       "        text-align: right;\n",
       "    }\n",
       "</style>\n",
       "<table border=\"1\" class=\"dataframe\">\n",
       "  <thead>\n",
       "    <tr style=\"text-align: right;\">\n",
       "      <th></th>\n",
       "      <th>Person_ID</th>\n",
       "      <th>AssessmentID</th>\n",
       "      <th>Case_ID</th>\n",
       "      <th>Agency_Text</th>\n",
       "      <th>LastName</th>\n",
       "      <th>FirstName</th>\n",
       "      <th>MiddleName</th>\n",
       "      <th>Sex_Code_Text</th>\n",
       "      <th>Ethnic_Code_Text</th>\n",
       "      <th>DateOfBirth</th>\n",
       "      <th>...</th>\n",
       "      <th>RecSupervisionLevel</th>\n",
       "      <th>RecSupervisionLevelText</th>\n",
       "      <th>Scale_ID</th>\n",
       "      <th>DisplayText</th>\n",
       "      <th>RawScore</th>\n",
       "      <th>DecileScore</th>\n",
       "      <th>ScoreText</th>\n",
       "      <th>AssessmentType</th>\n",
       "      <th>IsCompleted</th>\n",
       "      <th>IsDeleted</th>\n",
       "    </tr>\n",
       "  </thead>\n",
       "  <tbody>\n",
       "    <tr>\n",
       "      <th>0</th>\n",
       "      <td>50844</td>\n",
       "      <td>57167</td>\n",
       "      <td>51950</td>\n",
       "      <td>PRETRIAL</td>\n",
       "      <td>Fisher</td>\n",
       "      <td>Kevin</td>\n",
       "      <td>NaN</td>\n",
       "      <td>Male</td>\n",
       "      <td>Caucasian</td>\n",
       "      <td>12/05/92</td>\n",
       "      <td>...</td>\n",
       "      <td>1</td>\n",
       "      <td>Low</td>\n",
       "      <td>7</td>\n",
       "      <td>Risk of Violence</td>\n",
       "      <td>-2.08</td>\n",
       "      <td>4</td>\n",
       "      <td>Low</td>\n",
       "      <td>New</td>\n",
       "      <td>1</td>\n",
       "      <td>0</td>\n",
       "    </tr>\n",
       "    <tr>\n",
       "      <th>1</th>\n",
       "      <td>50844</td>\n",
       "      <td>57167</td>\n",
       "      <td>51950</td>\n",
       "      <td>PRETRIAL</td>\n",
       "      <td>Fisher</td>\n",
       "      <td>Kevin</td>\n",
       "      <td>NaN</td>\n",
       "      <td>Male</td>\n",
       "      <td>Caucasian</td>\n",
       "      <td>12/05/92</td>\n",
       "      <td>...</td>\n",
       "      <td>1</td>\n",
       "      <td>Low</td>\n",
       "      <td>8</td>\n",
       "      <td>Risk of Recidivism</td>\n",
       "      <td>-1.06</td>\n",
       "      <td>2</td>\n",
       "      <td>Low</td>\n",
       "      <td>New</td>\n",
       "      <td>1</td>\n",
       "      <td>0</td>\n",
       "    </tr>\n",
       "    <tr>\n",
       "      <th>2</th>\n",
       "      <td>50844</td>\n",
       "      <td>57167</td>\n",
       "      <td>51950</td>\n",
       "      <td>PRETRIAL</td>\n",
       "      <td>Fisher</td>\n",
       "      <td>Kevin</td>\n",
       "      <td>NaN</td>\n",
       "      <td>Male</td>\n",
       "      <td>Caucasian</td>\n",
       "      <td>12/05/92</td>\n",
       "      <td>...</td>\n",
       "      <td>1</td>\n",
       "      <td>Low</td>\n",
       "      <td>18</td>\n",
       "      <td>Risk of Failure to Appear</td>\n",
       "      <td>15.00</td>\n",
       "      <td>1</td>\n",
       "      <td>Low</td>\n",
       "      <td>New</td>\n",
       "      <td>1</td>\n",
       "      <td>0</td>\n",
       "    </tr>\n",
       "    <tr>\n",
       "      <th>3</th>\n",
       "      <td>50848</td>\n",
       "      <td>57174</td>\n",
       "      <td>51956</td>\n",
       "      <td>PRETRIAL</td>\n",
       "      <td>KENDALL</td>\n",
       "      <td>KEVIN</td>\n",
       "      <td>NaN</td>\n",
       "      <td>Male</td>\n",
       "      <td>Caucasian</td>\n",
       "      <td>09/16/84</td>\n",
       "      <td>...</td>\n",
       "      <td>1</td>\n",
       "      <td>Low</td>\n",
       "      <td>7</td>\n",
       "      <td>Risk of Violence</td>\n",
       "      <td>-2.84</td>\n",
       "      <td>2</td>\n",
       "      <td>Low</td>\n",
       "      <td>New</td>\n",
       "      <td>1</td>\n",
       "      <td>0</td>\n",
       "    </tr>\n",
       "    <tr>\n",
       "      <th>4</th>\n",
       "      <td>50848</td>\n",
       "      <td>57174</td>\n",
       "      <td>51956</td>\n",
       "      <td>PRETRIAL</td>\n",
       "      <td>KENDALL</td>\n",
       "      <td>KEVIN</td>\n",
       "      <td>NaN</td>\n",
       "      <td>Male</td>\n",
       "      <td>Caucasian</td>\n",
       "      <td>09/16/84</td>\n",
       "      <td>...</td>\n",
       "      <td>1</td>\n",
       "      <td>Low</td>\n",
       "      <td>8</td>\n",
       "      <td>Risk of Recidivism</td>\n",
       "      <td>-1.50</td>\n",
       "      <td>1</td>\n",
       "      <td>Low</td>\n",
       "      <td>New</td>\n",
       "      <td>1</td>\n",
       "      <td>0</td>\n",
       "    </tr>\n",
       "  </tbody>\n",
       "</table>\n",
       "<p>5 rows × 28 columns</p>\n",
       "</div>"
      ],
      "text/plain": [
       "   Person_ID  AssessmentID  Case_ID Agency_Text LastName FirstName MiddleName  \\\n",
       "0      50844         57167    51950    PRETRIAL   Fisher     Kevin        NaN   \n",
       "1      50844         57167    51950    PRETRIAL   Fisher     Kevin        NaN   \n",
       "2      50844         57167    51950    PRETRIAL   Fisher     Kevin        NaN   \n",
       "3      50848         57174    51956    PRETRIAL  KENDALL     KEVIN        NaN   \n",
       "4      50848         57174    51956    PRETRIAL  KENDALL     KEVIN        NaN   \n",
       "\n",
       "  Sex_Code_Text Ethnic_Code_Text DateOfBirth  ...  RecSupervisionLevel  \\\n",
       "0          Male        Caucasian    12/05/92  ...                    1   \n",
       "1          Male        Caucasian    12/05/92  ...                    1   \n",
       "2          Male        Caucasian    12/05/92  ...                    1   \n",
       "3          Male        Caucasian    09/16/84  ...                    1   \n",
       "4          Male        Caucasian    09/16/84  ...                    1   \n",
       "\n",
       "  RecSupervisionLevelText Scale_ID                DisplayText RawScore  \\\n",
       "0                     Low        7           Risk of Violence    -2.08   \n",
       "1                     Low        8         Risk of Recidivism    -1.06   \n",
       "2                     Low       18  Risk of Failure to Appear    15.00   \n",
       "3                     Low        7           Risk of Violence    -2.84   \n",
       "4                     Low        8         Risk of Recidivism    -1.50   \n",
       "\n",
       "  DecileScore ScoreText AssessmentType  IsCompleted IsDeleted  \n",
       "0           4       Low            New            1         0  \n",
       "1           2       Low            New            1         0  \n",
       "2           1       Low            New            1         0  \n",
       "3           2       Low            New            1         0  \n",
       "4           1       Low            New            1         0  \n",
       "\n",
       "[5 rows x 28 columns]"
      ]
     },
     "execution_count": 4,
     "metadata": {},
     "output_type": "execute_result"
    }
   ],
   "source": [
    "df = pd.read_csv(\"data/compas-scores-raw.csv\")\n",
    "df.head()"
   ]
  },
  {
   "cell_type": "markdown",
   "metadata": {},
   "source": [
    "# Inspecting the Data"
   ]
  },
  {
   "cell_type": "code",
   "execution_count": 5,
   "metadata": {},
   "outputs": [
    {
     "data": {
      "text/plain": [
       "Person_ID                    int64\n",
       "AssessmentID                 int64\n",
       "Case_ID                      int64\n",
       "Agency_Text                 object\n",
       "LastName                    object\n",
       "FirstName                   object\n",
       "MiddleName                  object\n",
       "Sex_Code_Text               object\n",
       "Ethnic_Code_Text            object\n",
       "DateOfBirth                 object\n",
       "ScaleSet_ID                  int64\n",
       "ScaleSet                    object\n",
       "AssessmentReason            object\n",
       "Language                    object\n",
       "LegalStatus                 object\n",
       "CustodyStatus               object\n",
       "MaritalStatus               object\n",
       "Screening_Date              object\n",
       "RecSupervisionLevel          int64\n",
       "RecSupervisionLevelText     object\n",
       "Scale_ID                     int64\n",
       "DisplayText                 object\n",
       "RawScore                   float64\n",
       "DecileScore                  int64\n",
       "ScoreText                   object\n",
       "AssessmentType              object\n",
       "IsCompleted                  int64\n",
       "IsDeleted                    int64\n",
       "dtype: object"
      ]
     },
     "execution_count": 5,
     "metadata": {},
     "output_type": "execute_result"
    }
   ],
   "source": [
    "df.dtypes"
   ]
  },
  {
   "cell_type": "code",
   "execution_count": 6,
   "metadata": {},
   "outputs": [
    {
     "data": {
      "text/html": [
       "<div>\n",
       "<style scoped>\n",
       "    .dataframe tbody tr th:only-of-type {\n",
       "        vertical-align: middle;\n",
       "    }\n",
       "\n",
       "    .dataframe tbody tr th {\n",
       "        vertical-align: top;\n",
       "    }\n",
       "\n",
       "    .dataframe thead th {\n",
       "        text-align: right;\n",
       "    }\n",
       "</style>\n",
       "<table border=\"1\" class=\"dataframe\">\n",
       "  <thead>\n",
       "    <tr style=\"text-align: right;\">\n",
       "      <th></th>\n",
       "      <th>Person_ID</th>\n",
       "      <th>AssessmentID</th>\n",
       "      <th>Case_ID</th>\n",
       "      <th>ScaleSet_ID</th>\n",
       "      <th>RecSupervisionLevel</th>\n",
       "      <th>Scale_ID</th>\n",
       "      <th>RawScore</th>\n",
       "      <th>DecileScore</th>\n",
       "      <th>IsCompleted</th>\n",
       "      <th>IsDeleted</th>\n",
       "    </tr>\n",
       "  </thead>\n",
       "  <tbody>\n",
       "    <tr>\n",
       "      <th>count</th>\n",
       "      <td>60843.000000</td>\n",
       "      <td>60843.000000</td>\n",
       "      <td>60843.000000</td>\n",
       "      <td>60843.000000</td>\n",
       "      <td>60843.000000</td>\n",
       "      <td>60843.000000</td>\n",
       "      <td>60843.000000</td>\n",
       "      <td>60843.000000</td>\n",
       "      <td>60843.0</td>\n",
       "      <td>60843.0</td>\n",
       "    </tr>\n",
       "    <tr>\n",
       "      <th>mean</th>\n",
       "      <td>53683.206154</td>\n",
       "      <td>68061.029190</td>\n",
       "      <td>60209.128149</td>\n",
       "      <td>21.819536</td>\n",
       "      <td>1.630048</td>\n",
       "      <td>11.000000</td>\n",
       "      <td>5.081457</td>\n",
       "      <td>3.571701</td>\n",
       "      <td>1.0</td>\n",
       "      <td>0.0</td>\n",
       "    </tr>\n",
       "    <tr>\n",
       "      <th>std</th>\n",
       "      <td>14363.648515</td>\n",
       "      <td>7320.208226</td>\n",
       "      <td>9638.501654</td>\n",
       "      <td>0.932614</td>\n",
       "      <td>0.944220</td>\n",
       "      <td>4.966596</td>\n",
       "      <td>10.080518</td>\n",
       "      <td>2.617854</td>\n",
       "      <td>0.0</td>\n",
       "      <td>0.0</td>\n",
       "    </tr>\n",
       "    <tr>\n",
       "      <th>min</th>\n",
       "      <td>656.000000</td>\n",
       "      <td>649.000000</td>\n",
       "      <td>350.000000</td>\n",
       "      <td>17.000000</td>\n",
       "      <td>1.000000</td>\n",
       "      <td>7.000000</td>\n",
       "      <td>-4.790000</td>\n",
       "      <td>-1.000000</td>\n",
       "      <td>1.0</td>\n",
       "      <td>0.0</td>\n",
       "    </tr>\n",
       "    <tr>\n",
       "      <th>25%</th>\n",
       "      <td>52039.000000</td>\n",
       "      <td>62582.000000</td>\n",
       "      <td>56021.000000</td>\n",
       "      <td>22.000000</td>\n",
       "      <td>1.000000</td>\n",
       "      <td>7.000000</td>\n",
       "      <td>-2.090000</td>\n",
       "      <td>1.000000</td>\n",
       "      <td>1.0</td>\n",
       "      <td>0.0</td>\n",
       "    </tr>\n",
       "    <tr>\n",
       "      <th>50%</th>\n",
       "      <td>57321.000000</td>\n",
       "      <td>68229.000000</td>\n",
       "      <td>61261.000000</td>\n",
       "      <td>22.000000</td>\n",
       "      <td>1.000000</td>\n",
       "      <td>8.000000</td>\n",
       "      <td>-0.710000</td>\n",
       "      <td>3.000000</td>\n",
       "      <td>1.0</td>\n",
       "      <td>0.0</td>\n",
       "    </tr>\n",
       "    <tr>\n",
       "      <th>75%</th>\n",
       "      <td>62748.000000</td>\n",
       "      <td>73870.000000</td>\n",
       "      <td>66554.000000</td>\n",
       "      <td>22.000000</td>\n",
       "      <td>2.000000</td>\n",
       "      <td>18.000000</td>\n",
       "      <td>14.000000</td>\n",
       "      <td>5.000000</td>\n",
       "      <td>1.0</td>\n",
       "      <td>0.0</td>\n",
       "    </tr>\n",
       "    <tr>\n",
       "      <th>max</th>\n",
       "      <td>68608.000000</td>\n",
       "      <td>79678.000000</td>\n",
       "      <td>72045.000000</td>\n",
       "      <td>22.000000</td>\n",
       "      <td>4.000000</td>\n",
       "      <td>18.000000</td>\n",
       "      <td>51.000000</td>\n",
       "      <td>10.000000</td>\n",
       "      <td>1.0</td>\n",
       "      <td>0.0</td>\n",
       "    </tr>\n",
       "  </tbody>\n",
       "</table>\n",
       "</div>"
      ],
      "text/plain": [
       "          Person_ID  AssessmentID       Case_ID   ScaleSet_ID  \\\n",
       "count  60843.000000  60843.000000  60843.000000  60843.000000   \n",
       "mean   53683.206154  68061.029190  60209.128149     21.819536   \n",
       "std    14363.648515   7320.208226   9638.501654      0.932614   \n",
       "min      656.000000    649.000000    350.000000     17.000000   \n",
       "25%    52039.000000  62582.000000  56021.000000     22.000000   \n",
       "50%    57321.000000  68229.000000  61261.000000     22.000000   \n",
       "75%    62748.000000  73870.000000  66554.000000     22.000000   \n",
       "max    68608.000000  79678.000000  72045.000000     22.000000   \n",
       "\n",
       "       RecSupervisionLevel      Scale_ID      RawScore   DecileScore  \\\n",
       "count         60843.000000  60843.000000  60843.000000  60843.000000   \n",
       "mean              1.630048     11.000000      5.081457      3.571701   \n",
       "std               0.944220      4.966596     10.080518      2.617854   \n",
       "min               1.000000      7.000000     -4.790000     -1.000000   \n",
       "25%               1.000000      7.000000     -2.090000      1.000000   \n",
       "50%               1.000000      8.000000     -0.710000      3.000000   \n",
       "75%               2.000000     18.000000     14.000000      5.000000   \n",
       "max               4.000000     18.000000     51.000000     10.000000   \n",
       "\n",
       "       IsCompleted  IsDeleted  \n",
       "count      60843.0    60843.0  \n",
       "mean           1.0        0.0  \n",
       "std            0.0        0.0  \n",
       "min            1.0        0.0  \n",
       "25%            1.0        0.0  \n",
       "50%            1.0        0.0  \n",
       "75%            1.0        0.0  \n",
       "max            1.0        0.0  "
      ]
     },
     "execution_count": 6,
     "metadata": {},
     "output_type": "execute_result"
    }
   ],
   "source": [
    "df.describe()"
   ]
  },
  {
   "cell_type": "markdown",
   "metadata": {},
   "source": [
    "Investigating the nan data:"
   ]
  },
  {
   "cell_type": "code",
   "execution_count": 11,
   "metadata": {},
   "outputs": [
    {
     "data": {
      "text/plain": [
       "Person_ID                      0\n",
       "AssessmentID                   0\n",
       "Case_ID                        0\n",
       "Agency_Text                    0\n",
       "LastName                       0\n",
       "FirstName                      0\n",
       "MiddleName                 45195\n",
       "Sex_Code_Text                  0\n",
       "Ethnic_Code_Text               0\n",
       "DateOfBirth                    0\n",
       "ScaleSet_ID                    0\n",
       "ScaleSet                       0\n",
       "AssessmentReason               0\n",
       "Language                       0\n",
       "LegalStatus                    0\n",
       "CustodyStatus                  0\n",
       "MaritalStatus                  0\n",
       "Screening_Date                 0\n",
       "RecSupervisionLevel            0\n",
       "RecSupervisionLevelText        0\n",
       "Scale_ID                       0\n",
       "DisplayText                    0\n",
       "RawScore                       0\n",
       "DecileScore                    0\n",
       "ScoreText                     45\n",
       "AssessmentType                 0\n",
       "IsCompleted                    0\n",
       "IsDeleted                      0\n",
       "dtype: int64"
      ]
     },
     "execution_count": 11,
     "metadata": {},
     "output_type": "execute_result"
    }
   ],
   "source": [
    "df.isnull().sum() "
   ]
  },
  {
   "cell_type": "code",
   "execution_count": 12,
   "metadata": {},
   "outputs": [
    {
     "data": {
      "text/plain": [
       "Person_ID                  18610\n",
       "AssessmentID               20281\n",
       "Case_ID                    19530\n",
       "Agency_Text                    4\n",
       "LastName                   10896\n",
       "FirstName                   7225\n",
       "MiddleName                  1871\n",
       "Sex_Code_Text                  2\n",
       "Ethnic_Code_Text               9\n",
       "DateOfBirth                10382\n",
       "ScaleSet_ID                    2\n",
       "ScaleSet                       2\n",
       "AssessmentReason               1\n",
       "Language                       2\n",
       "LegalStatus                    7\n",
       "CustodyStatus                  6\n",
       "MaritalStatus                  7\n",
       "Screening_Date               705\n",
       "RecSupervisionLevel            4\n",
       "RecSupervisionLevelText        4\n",
       "Scale_ID                       3\n",
       "DisplayText                    3\n",
       "RawScore                     659\n",
       "DecileScore                   11\n",
       "ScoreText                      3\n",
       "AssessmentType                 2\n",
       "IsCompleted                    1\n",
       "IsDeleted                      1\n",
       "dtype: int64"
      ]
     },
     "execution_count": 12,
     "metadata": {},
     "output_type": "execute_result"
    }
   ],
   "source": [
    "df.apply(\"nunique\")"
   ]
  },
  {
   "cell_type": "code",
   "execution_count": 13,
   "metadata": {},
   "outputs": [
    {
     "data": {
      "text/plain": [
       "(60843, 28)"
      ]
     },
     "execution_count": 13,
     "metadata": {},
     "output_type": "execute_result"
    }
   ],
   "source": [
    "df.shape"
   ]
  },
  {
   "cell_type": "markdown",
   "metadata": {},
   "source": [
    "# Cleaning the Data"
   ]
  },
  {
   "cell_type": "code",
   "execution_count": 14,
   "metadata": {},
   "outputs": [
    {
     "data": {
      "text/plain": [
       "Index(['Person_ID', 'AssessmentID', 'Case_ID', 'Agency_Text', 'LastName',\n",
       "       'FirstName', 'MiddleName', 'Sex_Code_Text', 'Ethnic_Code_Text',\n",
       "       'DateOfBirth', 'ScaleSet_ID', 'ScaleSet', 'AssessmentReason',\n",
       "       'Language', 'LegalStatus', 'CustodyStatus', 'MaritalStatus',\n",
       "       'Screening_Date', 'RecSupervisionLevel', 'RecSupervisionLevelText',\n",
       "       'Scale_ID', 'DisplayText', 'RawScore', 'DecileScore', 'ScoreText',\n",
       "       'AssessmentType', 'IsCompleted', 'IsDeleted'],\n",
       "      dtype='object')"
      ]
     },
     "execution_count": 14,
     "metadata": {},
     "output_type": "execute_result"
    }
   ],
   "source": [
    "df.columns"
   ]
  },
  {
   "cell_type": "code",
   "execution_count": null,
   "metadata": {},
   "outputs": [],
   "source": [
    "# checking for duplicated values\n",
    "df.duplicated().sum() "
   ]
  },
  {
   "cell_type": "markdown",
   "metadata": {},
   "source": [
    "As seen from the isnull analysis of the data, most people do not have a middle name and this is not relevant to exploring the data in our dataset, so we may remove that column."
   ]
  },
  {
   "cell_type": "code",
   "execution_count": 16,
   "metadata": {},
   "outputs": [
    {
     "data": {
      "text/plain": [
       "0"
      ]
     },
     "execution_count": 16,
     "metadata": {},
     "output_type": "execute_result"
    }
   ],
   "source": []
  }
 ],
 "metadata": {
  "kernelspec": {
   "display_name": "Python 3",
   "language": "python",
   "name": "python3"
  },
  "language_info": {
   "codemirror_mode": {
    "name": "ipython",
    "version": 3
   },
   "file_extension": ".py",
   "mimetype": "text/x-python",
   "name": "python",
   "nbconvert_exporter": "python",
   "pygments_lexer": "ipython3",
   "version": "3.7.6"
  }
 },
 "nbformat": 4,
 "nbformat_minor": 4
}
